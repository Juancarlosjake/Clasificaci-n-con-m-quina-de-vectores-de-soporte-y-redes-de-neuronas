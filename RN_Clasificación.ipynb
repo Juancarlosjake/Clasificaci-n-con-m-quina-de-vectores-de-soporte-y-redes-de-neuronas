{
 "cells": [
  {
   "cell_type": "markdown",
   "id": "ff3b9bba",
   "metadata": {},
   "source": [
    "<h1>Red Neuronal de Clasificación<h1>"
   ]
  },
  {
   "cell_type": "code",
   "execution_count": 1,
   "id": "2b9b3d48",
   "metadata": {},
   "outputs": [],
   "source": [
    "import pandas as pd\n",
    "import numpy as np\n",
    "import matplotlib.pyplot as plt\n",
    "import seaborn as sns\n",
    "from sklearn.preprocessing import StandardScaler\n",
    "from sklearn.metrics import confusion_matrix,roc_curve,auc,classification_report"
   ]
  },
  {
   "cell_type": "code",
   "execution_count": 2,
   "id": "612bb14d",
   "metadata": {},
   "outputs": [
    {
     "data": {
      "text/html": [
       "<div>\n",
       "<style scoped>\n",
       "    .dataframe tbody tr th:only-of-type {\n",
       "        vertical-align: middle;\n",
       "    }\n",
       "\n",
       "    .dataframe tbody tr th {\n",
       "        vertical-align: top;\n",
       "    }\n",
       "\n",
       "    .dataframe thead th {\n",
       "        text-align: right;\n",
       "    }\n",
       "</style>\n",
       "<table border=\"1\" class=\"dataframe\">\n",
       "  <thead>\n",
       "    <tr style=\"text-align: right;\">\n",
       "      <th></th>\n",
       "      <th>battery_power</th>\n",
       "      <th>blue</th>\n",
       "      <th>clock_speed</th>\n",
       "      <th>dual_sim</th>\n",
       "      <th>fc</th>\n",
       "      <th>four_g</th>\n",
       "      <th>int_memory</th>\n",
       "      <th>m_dep</th>\n",
       "      <th>mobile_wt</th>\n",
       "      <th>n_cores</th>\n",
       "      <th>...</th>\n",
       "      <th>px_height</th>\n",
       "      <th>px_width</th>\n",
       "      <th>ram</th>\n",
       "      <th>sc_h</th>\n",
       "      <th>sc_w</th>\n",
       "      <th>talk_time</th>\n",
       "      <th>three_g</th>\n",
       "      <th>touch_screen</th>\n",
       "      <th>wifi</th>\n",
       "      <th>price_range</th>\n",
       "    </tr>\n",
       "  </thead>\n",
       "  <tbody>\n",
       "    <tr>\n",
       "      <th>0</th>\n",
       "      <td>842</td>\n",
       "      <td>0</td>\n",
       "      <td>2.2</td>\n",
       "      <td>0</td>\n",
       "      <td>1</td>\n",
       "      <td>0</td>\n",
       "      <td>7</td>\n",
       "      <td>0.6</td>\n",
       "      <td>188</td>\n",
       "      <td>2</td>\n",
       "      <td>...</td>\n",
       "      <td>20</td>\n",
       "      <td>756</td>\n",
       "      <td>2549</td>\n",
       "      <td>9</td>\n",
       "      <td>7</td>\n",
       "      <td>19</td>\n",
       "      <td>0</td>\n",
       "      <td>0</td>\n",
       "      <td>1</td>\n",
       "      <td>1</td>\n",
       "    </tr>\n",
       "    <tr>\n",
       "      <th>1</th>\n",
       "      <td>1021</td>\n",
       "      <td>1</td>\n",
       "      <td>0.5</td>\n",
       "      <td>1</td>\n",
       "      <td>0</td>\n",
       "      <td>1</td>\n",
       "      <td>53</td>\n",
       "      <td>0.7</td>\n",
       "      <td>136</td>\n",
       "      <td>3</td>\n",
       "      <td>...</td>\n",
       "      <td>905</td>\n",
       "      <td>1988</td>\n",
       "      <td>2631</td>\n",
       "      <td>17</td>\n",
       "      <td>3</td>\n",
       "      <td>7</td>\n",
       "      <td>1</td>\n",
       "      <td>1</td>\n",
       "      <td>0</td>\n",
       "      <td>2</td>\n",
       "    </tr>\n",
       "    <tr>\n",
       "      <th>2</th>\n",
       "      <td>563</td>\n",
       "      <td>1</td>\n",
       "      <td>0.5</td>\n",
       "      <td>1</td>\n",
       "      <td>2</td>\n",
       "      <td>1</td>\n",
       "      <td>41</td>\n",
       "      <td>0.9</td>\n",
       "      <td>145</td>\n",
       "      <td>5</td>\n",
       "      <td>...</td>\n",
       "      <td>1263</td>\n",
       "      <td>1716</td>\n",
       "      <td>2603</td>\n",
       "      <td>11</td>\n",
       "      <td>2</td>\n",
       "      <td>9</td>\n",
       "      <td>1</td>\n",
       "      <td>1</td>\n",
       "      <td>0</td>\n",
       "      <td>2</td>\n",
       "    </tr>\n",
       "    <tr>\n",
       "      <th>3</th>\n",
       "      <td>615</td>\n",
       "      <td>1</td>\n",
       "      <td>2.5</td>\n",
       "      <td>0</td>\n",
       "      <td>0</td>\n",
       "      <td>0</td>\n",
       "      <td>10</td>\n",
       "      <td>0.8</td>\n",
       "      <td>131</td>\n",
       "      <td>6</td>\n",
       "      <td>...</td>\n",
       "      <td>1216</td>\n",
       "      <td>1786</td>\n",
       "      <td>2769</td>\n",
       "      <td>16</td>\n",
       "      <td>8</td>\n",
       "      <td>11</td>\n",
       "      <td>1</td>\n",
       "      <td>0</td>\n",
       "      <td>0</td>\n",
       "      <td>2</td>\n",
       "    </tr>\n",
       "    <tr>\n",
       "      <th>4</th>\n",
       "      <td>1821</td>\n",
       "      <td>1</td>\n",
       "      <td>1.2</td>\n",
       "      <td>0</td>\n",
       "      <td>13</td>\n",
       "      <td>1</td>\n",
       "      <td>44</td>\n",
       "      <td>0.6</td>\n",
       "      <td>141</td>\n",
       "      <td>2</td>\n",
       "      <td>...</td>\n",
       "      <td>1208</td>\n",
       "      <td>1212</td>\n",
       "      <td>1411</td>\n",
       "      <td>8</td>\n",
       "      <td>2</td>\n",
       "      <td>15</td>\n",
       "      <td>1</td>\n",
       "      <td>1</td>\n",
       "      <td>0</td>\n",
       "      <td>1</td>\n",
       "    </tr>\n",
       "  </tbody>\n",
       "</table>\n",
       "<p>5 rows × 21 columns</p>\n",
       "</div>"
      ],
      "text/plain": [
       "   battery_power  blue  clock_speed  dual_sim  fc  four_g  int_memory  m_dep  \\\n",
       "0            842     0          2.2         0   1       0           7    0.6   \n",
       "1           1021     1          0.5         1   0       1          53    0.7   \n",
       "2            563     1          0.5         1   2       1          41    0.9   \n",
       "3            615     1          2.5         0   0       0          10    0.8   \n",
       "4           1821     1          1.2         0  13       1          44    0.6   \n",
       "\n",
       "   mobile_wt  n_cores  ...  px_height  px_width   ram  sc_h  sc_w  talk_time  \\\n",
       "0        188        2  ...         20       756  2549     9     7         19   \n",
       "1        136        3  ...        905      1988  2631    17     3          7   \n",
       "2        145        5  ...       1263      1716  2603    11     2          9   \n",
       "3        131        6  ...       1216      1786  2769    16     8         11   \n",
       "4        141        2  ...       1208      1212  1411     8     2         15   \n",
       "\n",
       "   three_g  touch_screen  wifi  price_range  \n",
       "0        0             0     1            1  \n",
       "1        1             1     0            2  \n",
       "2        1             1     0            2  \n",
       "3        1             0     0            2  \n",
       "4        1             1     0            1  \n",
       "\n",
       "[5 rows x 21 columns]"
      ]
     },
     "execution_count": 2,
     "metadata": {},
     "output_type": "execute_result"
    }
   ],
   "source": [
    "dfTrain = pd.read_csv(\"train.csv\")\n",
    "dfTrain.head()"
   ]
  },
  {
   "cell_type": "code",
   "execution_count": 3,
   "id": "ea438021",
   "metadata": {},
   "outputs": [
    {
     "data": {
      "text/plain": [
       "1    500\n",
       "2    500\n",
       "3    500\n",
       "0    500\n",
       "Name: price_range, dtype: int64"
      ]
     },
     "execution_count": 3,
     "metadata": {},
     "output_type": "execute_result"
    }
   ],
   "source": [
    "#obtenemos los posibles valores que puede tomar el rango de precio\n",
    "dfTrain['price_range'].value_counts()"
   ]
  },
  {
   "cell_type": "code",
   "execution_count": 4,
   "id": "8f4e046c",
   "metadata": {},
   "outputs": [
    {
     "name": "stdout",
     "output_type": "stream",
     "text": [
      "<class 'pandas.core.frame.DataFrame'>\n",
      "RangeIndex: 2000 entries, 0 to 1999\n",
      "Data columns (total 21 columns):\n",
      " #   Column         Non-Null Count  Dtype  \n",
      "---  ------         --------------  -----  \n",
      " 0   battery_power  2000 non-null   int64  \n",
      " 1   blue           2000 non-null   int64  \n",
      " 2   clock_speed    2000 non-null   float64\n",
      " 3   dual_sim       2000 non-null   int64  \n",
      " 4   fc             2000 non-null   int64  \n",
      " 5   four_g         2000 non-null   int64  \n",
      " 6   int_memory     2000 non-null   int64  \n",
      " 7   m_dep          2000 non-null   float64\n",
      " 8   mobile_wt      2000 non-null   int64  \n",
      " 9   n_cores        2000 non-null   int64  \n",
      " 10  pc             2000 non-null   int64  \n",
      " 11  px_height      2000 non-null   int64  \n",
      " 12  px_width       2000 non-null   int64  \n",
      " 13  ram            2000 non-null   int64  \n",
      " 14  sc_h           2000 non-null   int64  \n",
      " 15  sc_w           2000 non-null   int64  \n",
      " 16  talk_time      2000 non-null   int64  \n",
      " 17  three_g        2000 non-null   int64  \n",
      " 18  touch_screen   2000 non-null   int64  \n",
      " 19  wifi           2000 non-null   int64  \n",
      " 20  price_range    2000 non-null   int64  \n",
      "dtypes: float64(2), int64(19)\n",
      "memory usage: 328.2 KB\n"
     ]
    }
   ],
   "source": [
    "#observamos la información de las demas variables\n",
    "dfTrain.info()"
   ]
  },
  {
   "cell_type": "code",
   "execution_count": 5,
   "id": "0fb47e6f",
   "metadata": {},
   "outputs": [
    {
     "name": "stdout",
     "output_type": "stream",
     "text": [
      "price_range      1.000000\n",
      "ram              0.917046\n",
      "battery_power    0.200723\n",
      "px_width         0.165818\n",
      "px_height        0.148858\n",
      "int_memory       0.044435\n",
      "sc_w             0.038711\n",
      "pc               0.033599\n",
      "Name: price_range, dtype: float64 \n",
      "\n"
     ]
    }
   ],
   "source": [
    "#correlación con la variable objetivo\n",
    "corrTrain = dfTrain.corr()\n",
    "print(corrTrain['price_range'].sort_values(ascending=False)[:8],'\\n')"
   ]
  },
  {
   "cell_type": "code",
   "execution_count": 6,
   "id": "de61901b",
   "metadata": {},
   "outputs": [
    {
     "data": {
      "text/plain": [
       "ram              0\n",
       "battery_power    0\n",
       "px_width         0\n",
       "px_height        0\n",
       "int_memory       0\n",
       "sc_w             0\n",
       "pc               0\n",
       "price_range      0\n",
       "dtype: int64"
      ]
     },
     "execution_count": 6,
     "metadata": {},
     "output_type": "execute_result"
    }
   ],
   "source": [
    "#Selección de variables y verificación de datos nulos\n",
    "dfFilter1 = dfTrain[[\"ram\",\"battery_power\",\"px_width\",\"px_height\",\"int_memory\",\"sc_w\",\"pc\",\"price_range\"]]\n",
    "dfFilter1.isnull().sum()"
   ]
  },
  {
   "cell_type": "code",
   "execution_count": 7,
   "id": "d7f2cb85",
   "metadata": {},
   "outputs": [
    {
     "data": {
      "text/plain": [
       "<AxesSubplot:>"
      ]
     },
     "execution_count": 7,
     "metadata": {},
     "output_type": "execute_result"
    },
    {
     "data": {
      "image/png": "[encoded data removed]",
      "text/plain": [
       "<Figure size 864x432 with 2 Axes>"
      ]
     },
     "metadata": {
      "needs_background": "light"
     },
     "output_type": "display_data"
    }
   ],
   "source": [
    "#matriz de correlación de los datos seleccionados\n",
    "plt.figure(figsize=(12, 6))\n",
    "sns.heatmap(dfFilter1.corr(),\n",
    "            cmap = 'BrBG',\n",
    "            fmt = '.2f',\n",
    "            linewidths = 2,\n",
    "            annot = True)"
   ]
  },
  {
   "cell_type": "code",
   "execution_count": 8,
   "id": "0a90780d",
   "metadata": {},
   "outputs": [],
   "source": [
    "y = dfFilter1['price_range']\n",
    "X = dfFilter1.drop('price_range',axis=1)"
   ]
  },
  {
   "cell_type": "code",
   "execution_count": 9,
   "id": "dff44065",
   "metadata": {},
   "outputs": [
    {
     "data": {
      "text/plain": [
       "array([[ 0.39170341, -0.90259726, -1.14678403, ..., -1.38064353,\n",
       "         0.2831028 , -1.3057501 ],\n",
       "       [ 0.46731702, -0.49513857,  1.70446468, ...,  1.15502422,\n",
       "        -0.63531667, -0.64598879],\n",
       "       [ 0.44149774, -1.5376865 ,  1.07496821, ...,  0.49354568,\n",
       "        -0.86492153, -0.64598879],\n",
       "       ...,\n",
       "       [ 0.86013895,  1.53077336,  0.88056489, ...,  0.21792962,\n",
       "        -1.0945264 , -1.14080978],\n",
       "       [-1.15745352,  0.62252745, -1.34581601, ...,  0.76916174,\n",
       "         0.9719174 , -0.81092912],\n",
       "       [ 1.65500399, -1.65833069, -1.15141268, ...,  0.71403853,\n",
       "        -0.4057118 ,  1.00341448]])"
      ]
     },
     "execution_count": 9,
     "metadata": {},
     "output_type": "execute_result"
    }
   ],
   "source": [
    "sc = StandardScaler()\n",
    "Xf = sc.fit_transform(X)\n",
    "Xf"
   ]
  },
  {
   "cell_type": "code",
   "execution_count": 10,
   "id": "533587b0",
   "metadata": {},
   "outputs": [],
   "source": [
    "yf = pd.get_dummies(y,columns = ['price_range'])"
   ]
  },
  {
   "cell_type": "code",
   "execution_count": 11,
   "id": "9435856a",
   "metadata": {},
   "outputs": [
    {
     "data": {
      "text/html": [
       "<div>\n",
       "<style scoped>\n",
       "    .dataframe tbody tr th:only-of-type {\n",
       "        vertical-align: middle;\n",
       "    }\n",
       "\n",
       "    .dataframe tbody tr th {\n",
       "        vertical-align: top;\n",
       "    }\n",
       "\n",
       "    .dataframe thead th {\n",
       "        text-align: right;\n",
       "    }\n",
       "</style>\n",
       "<table border=\"1\" class=\"dataframe\">\n",
       "  <thead>\n",
       "    <tr style=\"text-align: right;\">\n",
       "      <th></th>\n",
       "      <th>0</th>\n",
       "      <th>1</th>\n",
       "      <th>2</th>\n",
       "      <th>3</th>\n",
       "    </tr>\n",
       "  </thead>\n",
       "  <tbody>\n",
       "    <tr>\n",
       "      <th>0</th>\n",
       "      <td>0</td>\n",
       "      <td>1</td>\n",
       "      <td>0</td>\n",
       "      <td>0</td>\n",
       "    </tr>\n",
       "    <tr>\n",
       "      <th>1</th>\n",
       "      <td>0</td>\n",
       "      <td>0</td>\n",
       "      <td>1</td>\n",
       "      <td>0</td>\n",
       "    </tr>\n",
       "    <tr>\n",
       "      <th>2</th>\n",
       "      <td>0</td>\n",
       "      <td>0</td>\n",
       "      <td>1</td>\n",
       "      <td>0</td>\n",
       "    </tr>\n",
       "    <tr>\n",
       "      <th>3</th>\n",
       "      <td>0</td>\n",
       "      <td>0</td>\n",
       "      <td>1</td>\n",
       "      <td>0</td>\n",
       "    </tr>\n",
       "    <tr>\n",
       "      <th>4</th>\n",
       "      <td>0</td>\n",
       "      <td>1</td>\n",
       "      <td>0</td>\n",
       "      <td>0</td>\n",
       "    </tr>\n",
       "    <tr>\n",
       "      <th>...</th>\n",
       "      <td>...</td>\n",
       "      <td>...</td>\n",
       "      <td>...</td>\n",
       "      <td>...</td>\n",
       "    </tr>\n",
       "    <tr>\n",
       "      <th>1995</th>\n",
       "      <td>1</td>\n",
       "      <td>0</td>\n",
       "      <td>0</td>\n",
       "      <td>0</td>\n",
       "    </tr>\n",
       "    <tr>\n",
       "      <th>1996</th>\n",
       "      <td>0</td>\n",
       "      <td>0</td>\n",
       "      <td>1</td>\n",
       "      <td>0</td>\n",
       "    </tr>\n",
       "    <tr>\n",
       "      <th>1997</th>\n",
       "      <td>0</td>\n",
       "      <td>0</td>\n",
       "      <td>0</td>\n",
       "      <td>1</td>\n",
       "    </tr>\n",
       "    <tr>\n",
       "      <th>1998</th>\n",
       "      <td>1</td>\n",
       "      <td>0</td>\n",
       "      <td>0</td>\n",
       "      <td>0</td>\n",
       "    </tr>\n",
       "    <tr>\n",
       "      <th>1999</th>\n",
       "      <td>0</td>\n",
       "      <td>0</td>\n",
       "      <td>0</td>\n",
       "      <td>1</td>\n",
       "    </tr>\n",
       "  </tbody>\n",
       "</table>\n",
       "<p>2000 rows × 4 columns</p>\n",
       "</div>"
      ],
      "text/plain": [
       "      0  1  2  3\n",
       "0     0  1  0  0\n",
       "1     0  0  1  0\n",
       "2     0  0  1  0\n",
       "3     0  0  1  0\n",
       "4     0  1  0  0\n",
       "...  .. .. .. ..\n",
       "1995  1  0  0  0\n",
       "1996  0  0  1  0\n",
       "1997  0  0  0  1\n",
       "1998  1  0  0  0\n",
       "1999  0  0  0  1\n",
       "\n",
       "[2000 rows x 4 columns]"
      ]
     },
     "execution_count": 11,
     "metadata": {},
     "output_type": "execute_result"
    }
   ],
   "source": [
    "yf"
   ]
  },
  {
   "cell_type": "code",
   "execution_count": 12,
   "id": "fcd20f31",
   "metadata": {},
   "outputs": [],
   "source": [
    "from sklearn.model_selection import train_test_split, GridSearchCV\n",
    "x_train, x_test, y_train, y_test = train_test_split(Xf, yf, test_size=0.3, random_state=0)"
   ]
  },
  {
   "cell_type": "code",
   "execution_count": 13,
   "id": "57d5cbaf",
   "metadata": {},
   "outputs": [],
   "source": [
    "import tensorflow as tf\n",
    "from keras.models import Sequential\n",
    "\n",
    "#creación de la red neuronal\n",
    "model = Sequential()\n",
    "model.add(tf.keras.layers.Dense(32, input_dim=7, activation='relu'))\n",
    "model.add(tf.keras.layers.Dense(16, activation='relu'))\n",
    "model.add(tf.keras.layers.Dense(20, activation='sigmoid'))\n",
    "model.add(tf.keras.layers.Dense(4, activation='sigmoid'))\n",
    "\n",
    "model.compile(optimizer='adam', loss='binary_crossentropy', metrics=['accuracy'])"
   ]
  },
  {
   "cell_type": "code",
   "execution_count": 14,
   "id": "0a0ad95b",
   "metadata": {},
   "outputs": [],
   "source": [
    "from sklearn.preprocessing import StandardScaler\n",
    "std_clf = StandardScaler()\n",
    "x_train_new = std_clf.fit_transform(x_train)"
   ]
  },
  {
   "cell_type": "code",
   "execution_count": 15,
   "id": "ac379972",
   "metadata": {},
   "outputs": [
    {
     "data": {
      "text/plain": [
       "<keras.callbacks.History at 0x24fd3a00dc0>"
      ]
     },
     "execution_count": 15,
     "metadata": {},
     "output_type": "execute_result"
    }
   ],
   "source": [
    "model.fit(x_train_new,y_train, epochs=300,verbose= False)"
   ]
  },
  {
   "cell_type": "code",
   "execution_count": 16,
   "id": "01d9f93a",
   "metadata": {},
   "outputs": [
    {
     "name": "stdout",
     "output_type": "stream",
     "text": [
      "Training Accuracy: 99.93%\n",
      "\n",
      "Testing Accuracy: 95.00%\n",
      "\n"
     ]
    }
   ],
   "source": [
    "#evaluacion del desempeño de la red neuronal\n",
    "rend = model.evaluate(x_train,y_train,verbose=False)\n",
    "print(\"Training Accuracy: %.2f%%\\n\" % (rend[1]*100))\n",
    "rend2 = model.evaluate(x_test,y_test,verbose=False)\n",
    "print(\"Testing Accuracy: %.2f%%\\n\" % (rend2[1]*100))"
   ]
  },
  {
   "cell_type": "code",
   "execution_count": 17,
   "id": "7ec12eb6",
   "metadata": {},
   "outputs": [
    {
     "name": "stdout",
     "output_type": "stream",
     "text": [
      "19/19 [==============================] - 0s 818us/step\n"
     ]
    }
   ],
   "source": [
    "#Realizando prediccinoes con los datos de test\n",
    "y_testpred = model.predict(x_test)\n",
    "y_testpred = np.round(y_testpred)"
   ]
  },
  {
   "cell_type": "code",
   "execution_count": 18,
   "id": "a581b8f8",
   "metadata": {},
   "outputs": [
    {
     "name": "stdout",
     "output_type": "stream",
     "text": [
      "[4, 1, 3, 3, 3, 1, 1, 4, 4, 2, 2, 4, 1, 3, 4, 1, 4, 3, 3, 2, 1, 1, 4, 2, 3, 3, 4, 2, 4, 2, 2, 1, 3, 1, 2, 4, 1, 1, 4, 4, 4, 2, 4, 4, 2, 4, 1, 2, 4, 2, 2, 4, 1, 4, 1, 4, 3, 3, 1, 4, 4, 2, 4, 3, 2, 3, 4, 3, 3, 3, 4, 3, 2, 1, 2, 4, 3, 3, 2, 3, 4, 4, 4, 1, 1, 1, 3, 2, 3, 4, 2, 3, 3, 2, 1, 4, 4, 4, 1, 4, 2, 2, 3, 2, 4, 3, 3, 4, 3, 4, 4, 1, 1, 2, 4, 4, 1, 1, 2, 1, 1, 4, 3, 3, 2, 2, 2, 2, 1, 3, 2, 4, 3, 4, 4, 4, 4, 3, 1, 2, 2, 3, 2, 4, 2, 4, 1, 1, 3, 1, 2, 2, 2, 2, 4, 1, 1, 4, 2, 4, 3, 2, 4, 2, 3, 4, 4, 3, 2, 1, 4, 2, 3, 4, 4, 1, 3, 3, 4, 1, 3, 2, 1, 2, 3, 2, 3, 1, 4, 4, 2, 2, 1, 3, 4, 1, 2, 3, 3, 1, 4, 4, 4, 2, 3, 4, 4, 4, 1, 1, 1, 3, 4, 4, 1, 1, 2, 4, 2, 4, 4, 4, 1, 1, 3, 4, 4, 2, 1, 3, 1, 1, 1, 4, 3, 1, 3, 3, 2, 2, 1, 3, 4, 4, 1, 1, 2, 4, 4, 3, 4, 1, 4, 2, 2, 1, 3, 4, 4, 3, 1, 1, 2, 3, 4, 3, 3, 4, 3, 2, 1, 4, 4, 3, 2, 4, 3, 3, 3, 2, 1, 3, 3, 2, 1, 1, 3, 3, 3, 3, 1, 2, 4, 1, 2, 3, 4, 1, 3, 1, 2, 2, 4, 1, 1, 3, 4, 2, 3, 1, 3, 1, 4, 1, 4, 4, 3, 4, 2, 3, 3, 2, 2, 2, 1, 2, 1, 4, 2, 1, 4, 1, 1, 2, 4, 1, 4, 2, 3, 1, 2, 4, 1, 3, 3, 2, 3, 2, 2, 1, 3, 1, 1, 4, 2, 3, 4, 3, 3, 1, 4, 3, 3, 2, 4, 3, 4, 4, 4, 1, 3, 1, 4, 1, 2, 2, 3, 3, 2, 4, 2, 3, 1, 2, 3, 4, 1, 1, 2, 4, 1, 4, 1, 3, 3, 2, 2, 1, 3, 2, 1, 2, 4, 1, 4, 4, 1, 3, 2, 4, 2, 2, 4, 3, 1, 4, 3, 3, 1, 1, 4, 1, 2, 2, 2, 4, 3, 4, 3, 1, 4, 1, 1, 2, 4, 1, 1, 4, 3, 3, 3, 4, 1, 1, 2, 3, 2, 3, 1, 4, 4, 1, 4, 4, 1, 3, 3, 2, 1, 3, 3, 2, 4, 3, 3, 1, 3, 1, 4, 4, 3, 2, 1, 4, 2, 3, 1, 1, 2, 4, 1, 4, 1, 1, 3, 3, 1, 2, 4, 1, 4, 3, 2, 3, 1, 4, 2, 3, 4, 3, 3, 3, 4, 3, 4, 4, 1, 1, 3, 1, 4, 2, 2, 2, 1, 4, 3, 1, 3, 1, 4, 2, 2, 1, 3, 2, 1, 4, 2, 4, 1, 1, 3, 1, 4, 2, 1, 1, 3, 4, 1, 1, 1, 2, 3, 4, 2, 4, 3, 3, 1, 3, 2, 3, 4, 2, 3, 2, 3, 4, 3, 3, 2, 4, 1, 4, 1, 1, 2, 2, 3, 1, 2, 1, 2, 4, 4, 2, 4, 1, 3, 1, 1, 2, 4, 2, 3, 2, 4, 3, 2, 2, 3, 3, 1, 2, 4, 1, 3, 3]\n"
     ]
    }
   ],
   "source": [
    "y_finpredict = (np.argmax(y_testpred,axis=1)+1) #prediccion de la salida con valores maximo\n",
    "\n",
    "y_testfin=[]\n",
    "for i in range(len(y_test)):\n",
    "    if (y_test.iloc[i,0]==1):\n",
    "        y_testfin.append(1)\n",
    "    if (y_test.iloc[i,1]==1):\n",
    "        y_testfin.append(2)\n",
    "    if (y_test.iloc[i,2]==1):\n",
    "        y_testfin.append(3)\n",
    "    if (y_test.iloc[i,3]==1):\n",
    "        y_testfin.append(4)\n",
    "print(y_testfin)"
   ]
  },
  {
   "cell_type": "code",
   "execution_count": 19,
   "id": "a1bcc682",
   "metadata": {},
   "outputs": [],
   "source": [
    "#realizando la matriz de confusion\n",
    "cm = confusion_matrix(y_finpredict,y_testfin)"
   ]
  },
  {
   "cell_type": "code",
   "execution_count": 20,
   "id": "c68d6712",
   "metadata": {},
   "outputs": [
    {
     "name": "stdout",
     "output_type": "stream",
     "text": [
      "[[150   5   1   0]\n",
      " [  1 127   7   0]\n",
      " [  0   3 137   7]\n",
      " [  0   0   6 156]]\n"
     ]
    }
   ],
   "source": [
    "print(cm)"
   ]
  },
  {
   "cell_type": "code",
   "execution_count": 21,
   "id": "6e7d12ca",
   "metadata": {},
   "outputs": [
    {
     "name": "stdout",
     "output_type": "stream",
     "text": [
      "0\n",
      "1\n",
      "2\n",
      "3\n"
     ]
    },
    {
     "data": {
      "image/png": "[encoded data removed]",
      "text/plain": [
       "<Figure size 432x288 with 1 Axes>"
      ]
     },
     "metadata": {
      "needs_background": "light"
     },
     "output_type": "display_data"
    }
   ],
   "source": [
    "#curva rogue\n",
    "fpr = dict()\n",
    "tpr = dict()\n",
    "roc_auc = dict()\n",
    "for i in range(4):\n",
    "    print(i)\n",
    "    fpr[i],tpr[i],_= roc_curve(y_testpred[:,i],y_test.iloc[:,i])\n",
    "    roc_auc[i] = auc(fpr[i],tpr[i])\n",
    "colors = ['blue','red','green','yellow']\n",
    "for i,color in zip(range(4),colors):\n",
    "    plt.plot(fpr[i],tpr[i],color = color,\n",
    "    label = 'ROC curve of class {0} (area = {1:0.2f})'\n",
    "    ''.format(i, roc_auc[i]))\n",
    "\n",
    "plt.xlabel('Tasa de Falsos Positivos')\n",
    "plt.ylabel('Tasa de Verdaderos Positivos')\n",
    "plt.legend(loc = 'lower right')\n",
    "plt.show()"
   ]
  },
  {
   "cell_type": "code",
   "execution_count": 22,
   "id": "7ab53ae4",
   "metadata": {},
   "outputs": [
    {
     "name": "stdout",
     "output_type": "stream",
     "text": [
      "              precision    recall  f1-score   support\n",
      "\n",
      "           0       0.97      0.99      0.98       151\n",
      "           1       0.93      0.94      0.94       135\n",
      "           2       0.93      0.91      0.92       151\n",
      "           3       0.96      0.96      0.96       163\n",
      "\n",
      "   micro avg       0.95      0.95      0.95       600\n",
      "   macro avg       0.95      0.95      0.95       600\n",
      "weighted avg       0.95      0.95      0.95       600\n",
      " samples avg       0.95      0.95      0.95       600\n",
      "\n"
     ]
    },
    {
     "name": "stderr",
     "output_type": "stream",
     "text": [
      "C:\\Users\\jcarl\\anaconda3\\lib\\site-packages\\sklearn\\metrics\\_classification.py:1318: UndefinedMetricWarning: Precision and F-score are ill-defined and being set to 0.0 in samples with no predicted labels. Use `zero_division` parameter to control this behavior.\n",
      "  _warn_prf(average, modifier, msg_start, len(result))\n"
     ]
    }
   ],
   "source": [
    "#reporte de clasificasion\n",
    "print(classification_report(y_test,y_testpred))"
   ]
  },
  {
   "cell_type": "code",
   "execution_count": null,
   "id": "49f64929",
   "metadata": {},
   "outputs": [],
   "source": []
  }
 ],
 "metadata": {
  "kernelspec": {
   "display_name": "Python 3 (ipykernel)",
   "language": "python",
   "name": "python3"
  },
  "language_info": {
   "codemirror_mode": {
    "name": "ipython",
    "version": 3
   },
   "file_extension": ".py",
   "mimetype": "text/x-python",
   "name": "python",
   "nbconvert_exporter": "python",
   "pygments_lexer": "ipython3",
   "version": "3.9.12"
  }
 },
 "nbformat": 4,
 "nbformat_minor": 5
}
